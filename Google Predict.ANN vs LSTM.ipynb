{
 "cells": [
  {
   "cell_type": "code",
   "execution_count": 102,
   "metadata": {},
   "outputs": [],
   "source": [
    "import pandas as pd\n",
    "import numpy as np\n",
    "%matplotlib inline\n",
    "import matplotlib.pyplot as plt\n",
    "from sklearn.preprocessing import MinMaxScaler\n",
    "from sklearn.metrics import r2_score\n",
    "from keras.models import Sequential\n",
    "from keras.layers import Dense\n",
    "from keras.callbacks import EarlyStopping\n",
    "from keras.optimizers import Adam\n",
    "from keras.layers import LSTM\n",
    "from keras.layers import GRU\n",
    "import tensorflow as tf\n",
    "import math\n",
    "from keras.layers import Dense, LSTM, Dropout, GRU, Bidirectional\n",
    "from sklearn.metrics import mean_squared_error"
   ]
  },
  {
   "cell_type": "code",
   "execution_count": 103,
   "metadata": {},
   "outputs": [],
   "source": [
    "def plot_predictions(test,predicted):\n",
    "    plt.figure(figsize = (20,10))\n",
    "    plt.plot(test, color='red',label='Real DSEX Stock Price')\n",
    "    plt.plot(predicted, color='blue',label='Predicted DSEX Stock Price')\n",
    "    plt.title('Google Stock Price Prediction')\n",
    "    plt.xlabel('Time')\n",
    "    plt.ylabel('Google Stock Price')\n",
    "    plt.legend()\n",
    "    plt.show()"
   ]
  },
  {
   "cell_type": "code",
   "execution_count": 104,
   "metadata": {},
   "outputs": [],
   "source": [
    "def return_rmse(test,predicted):\n",
    "    rmse = math.sqrt(mean_squared_error(test, predicted))\n",
    "    print(\"The root mean squared error is {}.\".format(rmse))"
   ]
  },
  {
   "cell_type": "code",
   "execution_count": 105,
   "metadata": {},
   "outputs": [
    {
     "data": {
      "text/html": [
       "<div>\n",
       "<style scoped>\n",
       "    .dataframe tbody tr th:only-of-type {\n",
       "        vertical-align: middle;\n",
       "    }\n",
       "\n",
       "    .dataframe tbody tr th {\n",
       "        vertical-align: top;\n",
       "    }\n",
       "\n",
       "    .dataframe thead th {\n",
       "        text-align: right;\n",
       "    }\n",
       "</style>\n",
       "<table border=\"1\" class=\"dataframe\">\n",
       "  <thead>\n",
       "    <tr style=\"text-align: right;\">\n",
       "      <th></th>\n",
       "      <th>Close</th>\n",
       "      <th>High</th>\n",
       "      <th>Low</th>\n",
       "      <th>Open</th>\n",
       "      <th>Adj Close</th>\n",
       "      <th>Volume</th>\n",
       "    </tr>\n",
       "    <tr>\n",
       "      <th>Date</th>\n",
       "      <th></th>\n",
       "      <th></th>\n",
       "      <th></th>\n",
       "      <th></th>\n",
       "      <th></th>\n",
       "      <th></th>\n",
       "    </tr>\n",
       "  </thead>\n",
       "  <tbody>\n",
       "    <tr>\n",
       "      <th>2019-04-26</th>\n",
       "      <td>1272.180054</td>\n",
       "      <td>1273.069946</td>\n",
       "      <td>1260.319946</td>\n",
       "      <td>1269.000000</td>\n",
       "      <td>1272.180054</td>\n",
       "      <td>1241400</td>\n",
       "    </tr>\n",
       "    <tr>\n",
       "      <th>2019-04-29</th>\n",
       "      <td>1287.579956</td>\n",
       "      <td>1289.270020</td>\n",
       "      <td>1266.295044</td>\n",
       "      <td>1274.000000</td>\n",
       "      <td>1287.579956</td>\n",
       "      <td>2499400</td>\n",
       "    </tr>\n",
       "    <tr>\n",
       "      <th>2019-04-30</th>\n",
       "      <td>1188.479980</td>\n",
       "      <td>1192.810059</td>\n",
       "      <td>1175.000000</td>\n",
       "      <td>1185.000000</td>\n",
       "      <td>1188.479980</td>\n",
       "      <td>6207000</td>\n",
       "    </tr>\n",
       "    <tr>\n",
       "      <th>2019-05-01</th>\n",
       "      <td>1168.079956</td>\n",
       "      <td>1188.050049</td>\n",
       "      <td>1167.180054</td>\n",
       "      <td>1188.050049</td>\n",
       "      <td>1168.079956</td>\n",
       "      <td>2639200</td>\n",
       "    </tr>\n",
       "    <tr>\n",
       "      <th>2019-05-02</th>\n",
       "      <td>1162.609985</td>\n",
       "      <td>1174.189941</td>\n",
       "      <td>1155.001953</td>\n",
       "      <td>1167.760010</td>\n",
       "      <td>1162.609985</td>\n",
       "      <td>1943700</td>\n",
       "    </tr>\n",
       "  </tbody>\n",
       "</table>\n",
       "</div>"
      ],
      "text/plain": [
       "                  Close         High          Low         Open    Adj Close  \\\n",
       "Date                                                                          \n",
       "2019-04-26  1272.180054  1273.069946  1260.319946  1269.000000  1272.180054   \n",
       "2019-04-29  1287.579956  1289.270020  1266.295044  1274.000000  1287.579956   \n",
       "2019-04-30  1188.479980  1192.810059  1175.000000  1185.000000  1188.479980   \n",
       "2019-05-01  1168.079956  1188.050049  1167.180054  1188.050049  1168.079956   \n",
       "2019-05-02  1162.609985  1174.189941  1155.001953  1167.760010  1162.609985   \n",
       "\n",
       "             Volume  \n",
       "Date                 \n",
       "2019-04-26  1241400  \n",
       "2019-04-29  2499400  \n",
       "2019-04-30  6207000  \n",
       "2019-05-01  2639200  \n",
       "2019-05-02  1943700  "
      ]
     },
     "execution_count": 105,
     "metadata": {},
     "output_type": "execute_result"
    }
   ],
   "source": [
    "dataset1 = pd.read_csv('goog1.csv', index_col='Date', parse_dates=['Date']) \n",
    "dataset1.tail()"
   ]
  },
  {
   "cell_type": "code",
   "execution_count": 106,
   "metadata": {},
   "outputs": [],
   "source": [
    "dataset=dataset1.drop(columns=['Volume']) # Original Data"
   ]
  },
  {
   "cell_type": "code",
   "execution_count": null,
   "metadata": {},
   "outputs": [],
   "source": []
  },
  {
   "cell_type": "code",
   "execution_count": 107,
   "metadata": {},
   "outputs": [
    {
     "data": {
      "text/html": [
       "<div>\n",
       "<style scoped>\n",
       "    .dataframe tbody tr th:only-of-type {\n",
       "        vertical-align: middle;\n",
       "    }\n",
       "\n",
       "    .dataframe tbody tr th {\n",
       "        vertical-align: top;\n",
       "    }\n",
       "\n",
       "    .dataframe thead th {\n",
       "        text-align: right;\n",
       "    }\n",
       "</style>\n",
       "<table border=\"1\" class=\"dataframe\">\n",
       "  <thead>\n",
       "    <tr style=\"text-align: right;\">\n",
       "      <th></th>\n",
       "      <th>Close</th>\n",
       "      <th>High</th>\n",
       "      <th>Low</th>\n",
       "      <th>Open</th>\n",
       "      <th>Adj Close</th>\n",
       "    </tr>\n",
       "    <tr>\n",
       "      <th>Date</th>\n",
       "      <th></th>\n",
       "      <th></th>\n",
       "      <th></th>\n",
       "      <th></th>\n",
       "      <th></th>\n",
       "    </tr>\n",
       "  </thead>\n",
       "  <tbody>\n",
       "    <tr>\n",
       "      <th>2019-04-26</th>\n",
       "      <td>1272.180054</td>\n",
       "      <td>1273.069946</td>\n",
       "      <td>1260.319946</td>\n",
       "      <td>1269.000000</td>\n",
       "      <td>1272.180054</td>\n",
       "    </tr>\n",
       "    <tr>\n",
       "      <th>2019-04-29</th>\n",
       "      <td>1287.579956</td>\n",
       "      <td>1289.270020</td>\n",
       "      <td>1266.295044</td>\n",
       "      <td>1274.000000</td>\n",
       "      <td>1287.579956</td>\n",
       "    </tr>\n",
       "    <tr>\n",
       "      <th>2019-04-30</th>\n",
       "      <td>1188.479980</td>\n",
       "      <td>1192.810059</td>\n",
       "      <td>1175.000000</td>\n",
       "      <td>1185.000000</td>\n",
       "      <td>1188.479980</td>\n",
       "    </tr>\n",
       "    <tr>\n",
       "      <th>2019-05-01</th>\n",
       "      <td>1168.079956</td>\n",
       "      <td>1188.050049</td>\n",
       "      <td>1167.180054</td>\n",
       "      <td>1188.050049</td>\n",
       "      <td>1168.079956</td>\n",
       "    </tr>\n",
       "    <tr>\n",
       "      <th>2019-05-02</th>\n",
       "      <td>1162.609985</td>\n",
       "      <td>1174.189941</td>\n",
       "      <td>1155.001953</td>\n",
       "      <td>1167.760010</td>\n",
       "      <td>1162.609985</td>\n",
       "    </tr>\n",
       "  </tbody>\n",
       "</table>\n",
       "</div>"
      ],
      "text/plain": [
       "                  Close         High          Low         Open    Adj Close\n",
       "Date                                                                       \n",
       "2019-04-26  1272.180054  1273.069946  1260.319946  1269.000000  1272.180054\n",
       "2019-04-29  1287.579956  1289.270020  1266.295044  1274.000000  1287.579956\n",
       "2019-04-30  1188.479980  1192.810059  1175.000000  1185.000000  1188.479980\n",
       "2019-05-01  1168.079956  1188.050049  1167.180054  1188.050049  1168.079956\n",
       "2019-05-02  1162.609985  1174.189941  1155.001953  1167.760010  1162.609985"
      ]
     },
     "execution_count": 107,
     "metadata": {},
     "output_type": "execute_result"
    }
   ],
   "source": [
    "dataset.tail()"
   ]
  },
  {
   "cell_type": "code",
   "execution_count": 108,
   "metadata": {},
   "outputs": [],
   "source": [
    "training_set = dataset[:'2018'].iloc[:,0:6]\n",
    "test_set = dataset['2019':].iloc[:,0:1]"
   ]
  },
  {
   "cell_type": "code",
   "execution_count": 109,
   "metadata": {},
   "outputs": [
    {
     "data": {
      "text/plain": [
       "1427"
      ]
     },
     "execution_count": 109,
     "metadata": {},
     "output_type": "execute_result"
    }
   ],
   "source": [
    "len(training_set)"
   ]
  },
  {
   "cell_type": "code",
   "execution_count": 110,
   "metadata": {},
   "outputs": [
    {
     "data": {
      "text/plain": [
       "84"
      ]
     },
     "execution_count": 110,
     "metadata": {},
     "output_type": "execute_result"
    }
   ],
   "source": [
    "len(test_set)"
   ]
  },
  {
   "cell_type": "code",
   "execution_count": 111,
   "metadata": {},
   "outputs": [
    {
     "data": {
      "text/html": [
       "<div>\n",
       "<style scoped>\n",
       "    .dataframe tbody tr th:only-of-type {\n",
       "        vertical-align: middle;\n",
       "    }\n",
       "\n",
       "    .dataframe tbody tr th {\n",
       "        vertical-align: top;\n",
       "    }\n",
       "\n",
       "    .dataframe thead th {\n",
       "        text-align: right;\n",
       "    }\n",
       "</style>\n",
       "<table border=\"1\" class=\"dataframe\">\n",
       "  <thead>\n",
       "    <tr style=\"text-align: right;\">\n",
       "      <th></th>\n",
       "      <th>Close</th>\n",
       "      <th>High</th>\n",
       "      <th>Low</th>\n",
       "      <th>Open</th>\n",
       "      <th>Adj Close</th>\n",
       "    </tr>\n",
       "    <tr>\n",
       "      <th>Date</th>\n",
       "      <th></th>\n",
       "      <th></th>\n",
       "      <th></th>\n",
       "      <th></th>\n",
       "      <th></th>\n",
       "    </tr>\n",
       "  </thead>\n",
       "  <tbody>\n",
       "    <tr>\n",
       "      <th>2013-05-02</th>\n",
       "      <td>412.124542</td>\n",
       "      <td>414.578552</td>\n",
       "      <td>406.878632</td>\n",
       "      <td>407.400269</td>\n",
       "      <td>412.124542</td>\n",
       "    </tr>\n",
       "    <tr>\n",
       "      <th>2013-05-03</th>\n",
       "      <td>420.127472</td>\n",
       "      <td>420.663971</td>\n",
       "      <td>415.298889</td>\n",
       "      <td>415.775787</td>\n",
       "      <td>420.127472</td>\n",
       "    </tr>\n",
       "    <tr>\n",
       "      <th>2013-05-06</th>\n",
       "      <td>427.991333</td>\n",
       "      <td>428.140350</td>\n",
       "      <td>421.389282</td>\n",
       "      <td>421.389282</td>\n",
       "      <td>427.991333</td>\n",
       "    </tr>\n",
       "    <tr>\n",
       "      <th>2013-05-07</th>\n",
       "      <td>425.845276</td>\n",
       "      <td>429.143829</td>\n",
       "      <td>422.586487</td>\n",
       "      <td>428.716614</td>\n",
       "      <td>425.845276</td>\n",
       "    </tr>\n",
       "    <tr>\n",
       "      <th>2013-05-08</th>\n",
       "      <td>433.992310</td>\n",
       "      <td>434.116486</td>\n",
       "      <td>423.699249</td>\n",
       "      <td>425.731018</td>\n",
       "      <td>433.992310</td>\n",
       "    </tr>\n",
       "  </tbody>\n",
       "</table>\n",
       "</div>"
      ],
      "text/plain": [
       "                 Close        High         Low        Open   Adj Close\n",
       "Date                                                                  \n",
       "2013-05-02  412.124542  414.578552  406.878632  407.400269  412.124542\n",
       "2013-05-03  420.127472  420.663971  415.298889  415.775787  420.127472\n",
       "2013-05-06  427.991333  428.140350  421.389282  421.389282  427.991333\n",
       "2013-05-07  425.845276  429.143829  422.586487  428.716614  425.845276\n",
       "2013-05-08  433.992310  434.116486  423.699249  425.731018  433.992310"
      ]
     },
     "execution_count": 111,
     "metadata": {},
     "output_type": "execute_result"
    }
   ],
   "source": [
    "training_set.head()"
   ]
  },
  {
   "cell_type": "code",
   "execution_count": 112,
   "metadata": {},
   "outputs": [
    {
     "data": {
      "text/html": [
       "<div>\n",
       "<style scoped>\n",
       "    .dataframe tbody tr th:only-of-type {\n",
       "        vertical-align: middle;\n",
       "    }\n",
       "\n",
       "    .dataframe tbody tr th {\n",
       "        vertical-align: top;\n",
       "    }\n",
       "\n",
       "    .dataframe thead th {\n",
       "        text-align: right;\n",
       "    }\n",
       "</style>\n",
       "<table border=\"1\" class=\"dataframe\">\n",
       "  <thead>\n",
       "    <tr style=\"text-align: right;\">\n",
       "      <th></th>\n",
       "      <th>Close</th>\n",
       "    </tr>\n",
       "    <tr>\n",
       "      <th>Date</th>\n",
       "      <th></th>\n",
       "    </tr>\n",
       "  </thead>\n",
       "  <tbody>\n",
       "    <tr>\n",
       "      <th>2019-01-02</th>\n",
       "      <td>1045.849976</td>\n",
       "    </tr>\n",
       "    <tr>\n",
       "      <th>2019-01-03</th>\n",
       "      <td>1016.059998</td>\n",
       "    </tr>\n",
       "    <tr>\n",
       "      <th>2019-01-04</th>\n",
       "      <td>1070.709961</td>\n",
       "    </tr>\n",
       "    <tr>\n",
       "      <th>2019-01-07</th>\n",
       "      <td>1068.390015</td>\n",
       "    </tr>\n",
       "    <tr>\n",
       "      <th>2019-01-08</th>\n",
       "      <td>1076.280029</td>\n",
       "    </tr>\n",
       "  </tbody>\n",
       "</table>\n",
       "</div>"
      ],
      "text/plain": [
       "                  Close\n",
       "Date                   \n",
       "2019-01-02  1045.849976\n",
       "2019-01-03  1016.059998\n",
       "2019-01-04  1070.709961\n",
       "2019-01-07  1068.390015\n",
       "2019-01-08  1076.280029"
      ]
     },
     "execution_count": 112,
     "metadata": {},
     "output_type": "execute_result"
    }
   ],
   "source": [
    "test_set.head()"
   ]
  },
  {
   "cell_type": "code",
   "execution_count": 113,
   "metadata": {},
   "outputs": [
    {
     "data": {
      "image/png": "[encoded data removed]",
      "text/plain": [
       "<Figure size 1152x288 with 1 Axes>"
      ]
     },
     "metadata": {
      "needs_background": "light"
     },
     "output_type": "display_data"
    }
   ],
   "source": [
    "from matplotlib import pyplot as plt\n",
    "plt.figure(figsize=(16,4))\n",
    "\n",
    "plt.plot(training_set[\"Close\"])\n",
    "plt.plot(test_set[\"Close\"])\n",
    "\n",
    "plt.title('Google stock exchange stock price history')\n",
    "plt.ylabel('Price (USD)')\n",
    "plt.xlabel('Days')\n",
    "plt.legend(['Train_set','Test_set'], loc='upper left')\n",
    "plt.show()"
   ]
  },
  {
   "cell_type": "code",
   "execution_count": 114,
   "metadata": {},
   "outputs": [
    {
     "data": {
      "text/plain": [
       "(1427, 5)"
      ]
     },
     "execution_count": 114,
     "metadata": {},
     "output_type": "execute_result"
    }
   ],
   "source": [
    "training_set.shape"
   ]
  },
  {
   "cell_type": "code",
   "execution_count": 115,
   "metadata": {},
   "outputs": [
    {
     "data": {
      "text/plain": [
       "(84, 1)"
      ]
     },
     "execution_count": 115,
     "metadata": {},
     "output_type": "execute_result"
    }
   ],
   "source": [
    "test_set.shape"
   ]
  },
  {
   "cell_type": "code",
   "execution_count": 116,
   "metadata": {},
   "outputs": [],
   "source": [
    "train= training_set.values.reshape(-1, 1)\n",
    "test = test_set.values.reshape(-1, 1)"
   ]
  },
  {
   "cell_type": "code",
   "execution_count": 117,
   "metadata": {},
   "outputs": [
    {
     "data": {
      "text/plain": [
       "(84, 1)"
      ]
     },
     "execution_count": 117,
     "metadata": {},
     "output_type": "execute_result"
    }
   ],
   "source": [
    "test.shape"
   ]
  },
  {
   "cell_type": "code",
   "execution_count": 118,
   "metadata": {},
   "outputs": [],
   "source": [
    "scaler = MinMaxScaler(feature_range=(0, 4))\n",
    "\n",
    "train_sc = scaler.fit_transform(train)\n",
    "test_sc = scaler.fit_transform(test)"
   ]
  },
  {
   "cell_type": "code",
   "execution_count": 119,
   "metadata": {},
   "outputs": [],
   "source": [
    "from sklearn.preprocessing import StandardScaler\n",
    "scaler = StandardScaler()\n",
    "train_sc = scaler.fit_transform(train)\n",
    "test_sc = scaler.fit_transform(test)"
   ]
  },
  {
   "cell_type": "code",
   "execution_count": null,
   "metadata": {},
   "outputs": [],
   "source": []
  },
  {
   "cell_type": "code",
   "execution_count": 120,
   "metadata": {},
   "outputs": [],
   "source": [
    "X_train = train_sc[:-1]\n",
    "y_train = train_sc[1:]\n",
    "X_test = test_sc[:-1]\n",
    "y_test = test_sc[1:]"
   ]
  },
  {
   "cell_type": "code",
   "execution_count": 121,
   "metadata": {},
   "outputs": [
    {
     "data": {
      "text/plain": [
       "(7134, 1)"
      ]
     },
     "execution_count": 121,
     "metadata": {},
     "output_type": "execute_result"
    }
   ],
   "source": [
    "X_train.shape"
   ]
  },
  {
   "cell_type": "code",
   "execution_count": 122,
   "metadata": {},
   "outputs": [],
   "source": [
    "#get number of columns in training data\n",
    "n_cols = X_train.shape[1]"
   ]
  },
  {
   "cell_type": "code",
   "execution_count": 123,
   "metadata": {},
   "outputs": [
    {
     "data": {
      "text/plain": [
       "1"
      ]
     },
     "execution_count": 123,
     "metadata": {},
     "output_type": "execute_result"
    }
   ],
   "source": [
    "n_cols"
   ]
  },
  {
   "cell_type": "code",
   "execution_count": 124,
   "metadata": {},
   "outputs": [
    {
     "name": "stdout",
     "output_type": "stream",
     "text": [
      "Epoch 1/100\n",
      "7134/7134 [==============================] - 5s 740us/step - loss: 1.0607 - acc: 0.0000e+00\n",
      "Epoch 2/100\n",
      "7134/7134 [==============================] - 0s 45us/step - loss: 0.8635 - acc: 0.0000e+00\n",
      "Epoch 3/100\n",
      "7134/7134 [==============================] - 0s 48us/step - loss: 0.7180 - acc: 0.0000e+00\n",
      "Epoch 4/100\n",
      "7134/7134 [==============================] - 0s 45us/step - loss: 0.5598 - acc: 0.0000e+00\n",
      "Epoch 5/100\n",
      "7134/7134 [==============================] - 0s 52us/step - loss: 0.4048 - acc: 0.0000e+00\n",
      "Epoch 6/100\n",
      "7134/7134 [==============================] - 0s 53us/step - loss: 0.2725 - acc: 0.0000e+00\n",
      "Epoch 7/100\n",
      "7134/7134 [==============================] - 0s 48us/step - loss: 0.1748 - acc: 0.0000e+00\n",
      "Epoch 8/100\n",
      "7134/7134 [==============================] - 0s 50us/step - loss: 0.1115 - acc: 0.0000e+00\n",
      "Epoch 9/100\n",
      "7134/7134 [==============================] - 0s 48us/step - loss: 0.0746 - acc: 0.0000e+00\n",
      "Epoch 10/100\n",
      "7134/7134 [==============================] - 0s 46us/step - loss: 0.0549 - acc: 0.0000e+00\n",
      "Epoch 11/100\n",
      "7134/7134 [==============================] - 0s 40us/step - loss: 0.0450 - acc: 0.0000e+00\n",
      "Epoch 12/100\n",
      "7134/7134 [==============================] - 0s 43us/step - loss: 0.0401 - acc: 0.0000e+00\n",
      "Epoch 13/100\n",
      "7134/7134 [==============================] - 0s 49us/step - loss: 0.0375 - acc: 0.0000e+00\n",
      "Epoch 14/100\n",
      "7134/7134 [==============================] - 0s 43us/step - loss: 0.0360 - acc: 0.0000e+00\n",
      "Epoch 15/100\n",
      "7134/7134 [==============================] - 0s 43us/step - loss: 0.0349 - acc: 0.0000e+00\n",
      "Epoch 16/100\n",
      "7134/7134 [==============================] - 0s 42us/step - loss: 0.0341 - acc: 0.0000e+00\n",
      "Epoch 17/100\n",
      "7134/7134 [==============================] - 0s 45us/step - loss: 0.0333 - acc: 0.0000e+00\n",
      "Epoch 18/100\n",
      "7134/7134 [==============================] - 0s 47us/step - loss: 0.0327 - acc: 0.0000e+00\n",
      "Epoch 19/100\n",
      "7134/7134 [==============================] - 0s 41us/step - loss: 0.0321 - acc: 0.0000e+00\n",
      "Epoch 20/100\n",
      "7134/7134 [==============================] - 0s 49us/step - loss: 0.0316 - acc: 0.0000e+00\n",
      "Epoch 21/100\n",
      "7134/7134 [==============================] - 0s 47us/step - loss: 0.0311 - acc: 0.0000e+00\n",
      "Epoch 22/100\n",
      "7134/7134 [==============================] - 0s 47us/step - loss: 0.0307 - acc: 0.0000e+00\n",
      "Epoch 23/100\n",
      "7134/7134 [==============================] - 0s 45us/step - loss: 0.0303 - acc: 0.0000e+00\n",
      "Epoch 24/100\n",
      "7134/7134 [==============================] - 0s 50us/step - loss: 0.0299 - acc: 0.0000e+00\n",
      "Epoch 25/100\n",
      "7134/7134 [==============================] - 0s 51us/step - loss: 0.0295 - acc: 0.0000e+00\n",
      "Epoch 26/100\n",
      "7134/7134 [==============================] - 0s 51us/step - loss: 0.0291 - acc: 0.0000e+00\n",
      "Epoch 27/100\n",
      "7134/7134 [==============================] - 0s 53us/step - loss: 0.0288 - acc: 0.0000e+00\n",
      "Epoch 28/100\n",
      "7134/7134 [==============================] - 0s 53us/step - loss: 0.0284 - acc: 0.0000e+00\n",
      "Epoch 29/100\n",
      "7134/7134 [==============================] - 0s 58us/step - loss: 0.0280 - acc: 0.0000e+00\n",
      "Epoch 30/100\n",
      "7134/7134 [==============================] - 0s 65us/step - loss: 0.0276 - acc: 0.0000e+00\n",
      "Epoch 31/100\n",
      "7134/7134 [==============================] - 0s 66us/step - loss: 0.0271 - acc: 0.0000e+00\n",
      "Epoch 32/100\n",
      "7134/7134 [==============================] - 0s 46us/step - loss: 0.0267 - acc: 0.0000e+00\n",
      "Epoch 33/100\n",
      "7134/7134 [==============================] - 0s 59us/step - loss: 0.0263 - acc: 0.0000e+00\n",
      "Epoch 34/100\n",
      "7134/7134 [==============================] - 0s 37us/step - loss: 0.0258 - acc: 0.0000e+00\n",
      "Epoch 35/100\n",
      "7134/7134 [==============================] - 0s 42us/step - loss: 0.0253 - acc: 0.0000e+00\n",
      "Epoch 36/100\n",
      "7134/7134 [==============================] - 0s 32us/step - loss: 0.0248 - acc: 0.0000e+00\n",
      "Epoch 37/100\n",
      "7134/7134 [==============================] - 0s 36us/step - loss: 0.0243 - acc: 0.0000e+00\n",
      "Epoch 38/100\n",
      "7134/7134 [==============================] - 0s 39us/step - loss: 0.0237 - acc: 0.0000e+00\n",
      "Epoch 39/100\n",
      "7134/7134 [==============================] - 0s 39us/step - loss: 0.0231 - acc: 0.0000e+00\n",
      "Epoch 40/100\n",
      "7134/7134 [==============================] - 0s 36us/step - loss: 0.0225 - acc: 0.0000e+00\n",
      "Epoch 41/100\n",
      "7134/7134 [==============================] - 0s 34us/step - loss: 0.0219 - acc: 0.0000e+00\n",
      "Epoch 42/100\n",
      "7134/7134 [==============================] - 0s 43us/step - loss: 0.0212 - acc: 0.0000e+00\n",
      "Epoch 43/100\n",
      "7134/7134 [==============================] - 0s 47us/step - loss: 0.0205 - acc: 0.0000e+00\n",
      "Epoch 44/100\n",
      "7134/7134 [==============================] - 0s 42us/step - loss: 0.0198 - acc: 0.0000e+00\n",
      "Epoch 45/100\n",
      "7134/7134 [==============================] - 0s 32us/step - loss: 0.0191 - acc: 0.0000e+00\n",
      "Epoch 46/100\n",
      "7134/7134 [==============================] - 0s 41us/step - loss: 0.0183 - acc: 0.0000e+00\n",
      "Epoch 47/100\n",
      "7134/7134 [==============================] - 0s 40us/step - loss: 0.0176 - acc: 0.0000e+00\n",
      "Epoch 48/100\n",
      "7134/7134 [==============================] - 0s 36us/step - loss: 0.0168 - acc: 0.0000e+00\n",
      "Epoch 49/100\n",
      "7134/7134 [==============================] - 0s 31us/step - loss: 0.0161 - acc: 0.0000e+00\n",
      "Epoch 50/100\n",
      "7134/7134 [==============================] - 0s 66us/step - loss: 0.0153 - acc: 0.0000e+00\n",
      "Epoch 51/100\n",
      "7134/7134 [==============================] - 0s 53us/step - loss: 0.0146 - acc: 0.0000e+00\n",
      "Epoch 52/100\n",
      "7134/7134 [==============================] - 0s 69us/step - loss: 0.0139 - acc: 0.0000e+00\n",
      "Epoch 53/100\n",
      "7134/7134 [==============================] - 1s 88us/step - loss: 0.0132 - acc: 0.0000e+00\n",
      "Epoch 54/100\n",
      "7134/7134 [==============================] - 0s 52us/step - loss: 0.0125 - acc: 0.0000e+00\n",
      "Epoch 55/100\n",
      "7134/7134 [==============================] - 0s 41us/step - loss: 0.0118 - acc: 0.0000e+00\n",
      "Epoch 56/100\n",
      "7134/7134 [==============================] - 0s 39us/step - loss: 0.0112 - acc: 0.0000e+00\n",
      "Epoch 57/100\n",
      "7134/7134 [==============================] - 0s 43us/step - loss: 0.0106 - acc: 0.0000e+00\n",
      "Epoch 58/100\n",
      "7134/7134 [==============================] - 0s 43us/step - loss: 0.0101 - acc: 0.0000e+00\n",
      "Epoch 59/100\n",
      "7134/7134 [==============================] - 0s 60us/step - loss: 0.0095 - acc: 0.0000e+00\n",
      "Epoch 60/100\n",
      "7134/7134 [==============================] - 1s 80us/step - loss: 0.0090 - acc: 0.0000e+00\n",
      "Epoch 61/100\n",
      "7134/7134 [==============================] - 0s 68us/step - loss: 0.0085 - acc: 0.0000e+00\n",
      "Epoch 62/100\n",
      "7134/7134 [==============================] - 0s 57us/step - loss: 0.0081 - acc: 0.0000e+00\n",
      "Epoch 63/100\n",
      "7134/7134 [==============================] - 0s 65us/step - loss: 0.0076 - acc: 0.0000e+00\n",
      "Epoch 64/100\n",
      "7134/7134 [==============================] - 0s 46us/step - loss: 0.0073 - acc: 0.0000e+00\n",
      "Epoch 65/100\n",
      "7134/7134 [==============================] - 0s 47us/step - loss: 0.0069 - acc: 0.0000e+00\n",
      "Epoch 66/100\n",
      "7134/7134 [==============================] - 0s 33us/step - loss: 0.0066 - acc: 0.0000e+00\n",
      "Epoch 67/100\n",
      "7134/7134 [==============================] - 0s 58us/step - loss: 0.0063 - acc: 0.0000e+00\n",
      "Epoch 68/100\n",
      "7134/7134 [==============================] - 0s 50us/step - loss: 0.0060 - acc: 0.0000e+00\n",
      "Epoch 69/100\n",
      "7134/7134 [==============================] - 0s 53us/step - loss: 0.0057 - acc: 0.0000e+00\n",
      "Epoch 70/100\n",
      "7134/7134 [==============================] - 0s 48us/step - loss: 0.0055 - acc: 0.0000e+00\n",
      "Epoch 71/100\n",
      "7134/7134 [==============================] - 0s 56us/step - loss: 0.0053 - acc: 0.0000e+00\n",
      "Epoch 72/100\n",
      "7134/7134 [==============================] - 0s 40us/step - loss: 0.0051 - acc: 0.0000e+00\n",
      "Epoch 73/100\n",
      "7134/7134 [==============================] - 0s 44us/step - loss: 0.0049 - acc: 0.0000e+00\n",
      "Epoch 74/100\n",
      "7134/7134 [==============================] - 0s 41us/step - loss: 0.0048 - acc: 0.0000e+00\n",
      "Epoch 75/100\n",
      "7134/7134 [==============================] - 0s 40us/step - loss: 0.0046 - acc: 0.0000e+00\n",
      "Epoch 76/100\n",
      "7134/7134 [==============================] - 0s 47us/step - loss: 0.0045 - acc: 0.0000e+00\n",
      "Epoch 77/100\n",
      "7134/7134 [==============================] - 0s 48us/step - loss: 0.0044 - acc: 0.0000e+00\n",
      "Epoch 78/100\n",
      "7134/7134 [==============================] - 0s 51us/step - loss: 0.0043 - acc: 0.0000e+00\n",
      "Epoch 79/100\n"
     ]
    },
    {
     "name": "stdout",
     "output_type": "stream",
     "text": [
      "7134/7134 [==============================] - 0s 47us/step - loss: 0.0042 - acc: 0.0000e+00\n",
      "Epoch 80/100\n",
      "7134/7134 [==============================] - 0s 45us/step - loss: 0.0042 - acc: 0.0000e+00\n",
      "Epoch 81/100\n",
      "7134/7134 [==============================] - 0s 43us/step - loss: 0.0041 - acc: 0.0000e+00\n",
      "Epoch 82/100\n",
      "7134/7134 [==============================] - 0s 70us/step - loss: 0.0040 - acc: 0.0000e+00\n",
      "Epoch 83/100\n",
      "7134/7134 [==============================] - 0s 63us/step - loss: 0.0040 - acc: 0.0000e+00\n",
      "Epoch 84/100\n",
      "7134/7134 [==============================] - 0s 68us/step - loss: 0.0039 - acc: 0.0000e+00\n",
      "Epoch 85/100\n",
      "7134/7134 [==============================] - 0s 54us/step - loss: 0.0039 - acc: 0.0000e+00\n",
      "Epoch 86/100\n",
      "7134/7134 [==============================] - 0s 40us/step - loss: 0.0038 - acc: 0.0000e+00\n",
      "Epoch 87/100\n",
      "7134/7134 [==============================] - 0s 41us/step - loss: 0.0038 - acc: 0.0000e+00\n",
      "Epoch 88/100\n",
      "7134/7134 [==============================] - 0s 41us/step - loss: 0.0038 - acc: 0.0000e+00\n",
      "Epoch 89/100\n",
      "7134/7134 [==============================] - 0s 52us/step - loss: 0.0037 - acc: 0.0000e+00\n",
      "Epoch 90/100\n",
      "7134/7134 [==============================] - 0s 55us/step - loss: 0.0037 - acc: 0.0000e+00\n",
      "Epoch 91/100\n",
      "7134/7134 [==============================] - 0s 42us/step - loss: 0.0036 - acc: 0.0000e+00\n",
      "Epoch 92/100\n",
      "7134/7134 [==============================] - 0s 49us/step - loss: 0.0036 - acc: 0.0000e+00\n",
      "Epoch 93/100\n",
      "7134/7134 [==============================] - 0s 39us/step - loss: 0.0036 - acc: 0.0000e+00\n",
      "Epoch 94/100\n",
      "7134/7134 [==============================] - 0s 36us/step - loss: 0.0036 - acc: 0.0000e+00\n",
      "Epoch 95/100\n",
      "7134/7134 [==============================] - 0s 32us/step - loss: 0.0035 - acc: 0.0000e+00\n",
      "Epoch 96/100\n",
      "7134/7134 [==============================] - 0s 36us/step - loss: 0.0035 - acc: 0.0000e+00\n",
      "Epoch 97/100\n",
      "7134/7134 [==============================] - 0s 40us/step - loss: 0.0035 - acc: 0.0000e+00\n",
      "Epoch 98/100\n",
      "7134/7134 [==============================] - 0s 36us/step - loss: 0.0035 - acc: 0.0000e+00\n",
      "Epoch 99/100\n",
      "7134/7134 [==============================] - 0s 38us/step - loss: 0.0034 - acc: 0.0000e+00\n",
      "Epoch 100/100\n",
      "7134/7134 [==============================] - 0s 41us/step - loss: 0.0034 - acc: 0.0000e+00\n"
     ]
    }
   ],
   "source": [
    "nn_model = Sequential()\n",
    "\n",
    "nn_model.add(Dense(12, activation='relu', input_shape=(n_cols,))) #Layer1\n",
    "nn_model.add(Dense(12, activation='sigmoid')) #Layer 2\n",
    "nn_model.add(Dense(1)) #Output Layer\n",
    "nn_model.compile(loss='mean_squared_error', optimizer='adam',metrics=['accuracy'])\n",
    "early_stop = EarlyStopping(monitor='loss', patience=100, verbose=1)\n",
    "history = nn_model.fit(X_train, y_train, epochs=100, batch_size=128, verbose=1, callbacks=[early_stop], shuffle=False)"
   ]
  },
  {
   "cell_type": "code",
   "execution_count": 125,
   "metadata": {},
   "outputs": [],
   "source": [
    "nn_y_pred_test = nn_model.predict(X_test)"
   ]
  },
  {
   "cell_type": "code",
   "execution_count": 126,
   "metadata": {},
   "outputs": [
    {
     "data": {
      "image/png": "[encoded data removed]",
      "text/plain": [
       "<Figure size 720x432 with 1 Axes>"
      ]
     },
     "metadata": {
      "needs_background": "light"
     },
     "output_type": "display_data"
    }
   ],
   "source": [
    "plt.figure(figsize=(10, 6))\n",
    "plt.plot(y_test, label='Actual Value')\n",
    "plt.plot(nn_y_pred_test, label='Predicted Value')\n",
    "plt.title(\"NN's Prediction\")\n",
    "plt.xlabel('Observation/Time')\n",
    "plt.ylabel('Google Stock Price Scaled')\n",
    "plt.legend()\n",
    "plt.show();"
   ]
  },
  {
   "cell_type": "code",
   "execution_count": 127,
   "metadata": {},
   "outputs": [
    {
     "name": "stdout",
     "output_type": "stream",
     "text": [
      "The root mean squared error is 0.27477616840400815.\n"
     ]
    }
   ],
   "source": [
    "return_rmse(y_test,nn_y_pred_test)"
   ]
  },
  {
   "cell_type": "code",
   "execution_count": 128,
   "metadata": {},
   "outputs": [],
   "source": [
    "predicted_stock_price = scaler.inverse_transform(nn_y_pred_test)"
   ]
  },
  {
   "cell_type": "code",
   "execution_count": 129,
   "metadata": {},
   "outputs": [],
   "source": [
    "y_testp = scaler.inverse_transform(y_test)"
   ]
  },
  {
   "cell_type": "code",
   "execution_count": 130,
   "metadata": {},
   "outputs": [
    {
     "name": "stdout",
     "output_type": "stream",
     "text": [
      "The root mean squared error is 17.288298862698.\n"
     ]
    }
   ],
   "source": [
    "return_rmse(y_testp,predicted_stock_price)"
   ]
  },
  {
   "cell_type": "code",
   "execution_count": 131,
   "metadata": {},
   "outputs": [
    {
     "data": {
      "image/png": "[encoded data removed]",
      "text/plain": [
       "<Figure size 1440x720 with 1 Axes>"
      ]
     },
     "metadata": {
      "needs_background": "light"
     },
     "output_type": "display_data"
    }
   ],
   "source": [
    "plot_predictions(y_testp,predicted_stock_price)"
   ]
  },
  {
   "cell_type": "code",
   "execution_count": 57,
   "metadata": {},
   "outputs": [],
   "source": [
    "z = y_testp-predicted_stock_price"
   ]
  },
  {
   "cell_type": "code",
   "execution_count": 54,
   "metadata": {},
   "outputs": [
    {
     "name": "stdout",
     "output_type": "stream",
     "text": [
      "83/83 [==============================] - 0s 3ms/step\n",
      "acc: 0.00%\n"
     ]
    }
   ],
   "source": [
    "scores = nn_model.evaluate(y_testp,predicted_stock_price)\n",
    "print(\"%s: %.2f%%\" % (nn_model.metrics_names[1], scores[1]*100))\n"
   ]
  },
  {
   "cell_type": "markdown",
   "metadata": {},
   "source": [
    "# LSTM"
   ]
  },
  {
   "cell_type": "code",
   "execution_count": 59,
   "metadata": {},
   "outputs": [],
   "source": [
    "from statsmodels.tsa.stattools import pacf"
   ]
  },
  {
   "cell_type": "code",
   "execution_count": 60,
   "metadata": {},
   "outputs": [],
   "source": [
    "dataset_pacf = pacf(dataset, nlags = 5, method = 'ols')"
   ]
  },
  {
   "cell_type": "code",
   "execution_count": 61,
   "metadata": {},
   "outputs": [
    {
     "data": {
      "text/plain": [
       "array([1.0,\n",
       "       array([0.99889896, 1.00865019, 0.98861912, 0.99849333, 0.99889896]),\n",
       "       array([ 0.06522218,  0.27638663, -0.22204966, -0.00468103,  0.06522218]),\n",
       "       array([ 0.12255035, -0.1834763 ,  0.28860002,  0.00234269,  0.12255035]),\n",
       "       array([-0.23893056, -0.28679139, -0.13453715, -0.15711634, -0.23893056]),\n",
       "       array([0.34384353, 0.34034802, 0.45597215, 0.45010523, 0.34384353])],\n",
       "      dtype=object)"
      ]
     },
     "execution_count": 61,
     "metadata": {},
     "output_type": "execute_result"
    }
   ],
   "source": [
    "dataset_pacf"
   ]
  },
  {
   "cell_type": "code",
   "execution_count": 62,
   "metadata": {},
   "outputs": [],
   "source": [
    "XL_train = []\n",
    "yL_train = []\n",
    "for i in range(1,1427+1):\n",
    "    XL_train.append(train_sc[i-1:i,0])\n",
    "    yL_train.append(train_sc[i,0])\n",
    "XL_train, yL_train = np.array(XL_train), np.array(yL_train)"
   ]
  },
  {
   "cell_type": "code",
   "execution_count": 63,
   "metadata": {},
   "outputs": [],
   "source": [
    "XL_train = np.reshape(XL_train, (XL_train.shape[0],XL_train.shape[1],1))"
   ]
  },
  {
   "cell_type": "code",
   "execution_count": 64,
   "metadata": {},
   "outputs": [
    {
     "name": "stderr",
     "output_type": "stream",
     "text": [
      "/Users/san/anaconda3/lib/python3.7/site-packages/ipykernel_launcher.py:4: UserWarning: Update your `LSTM` call to the Keras 2 API: `LSTM(units=60, activation=\"tanh\", return_sequences=True, input_shape=(1, 1), recurrent_activation=\"hard_sigmoid\")`\n",
      "  after removing the cwd from sys.path.\n"
     ]
    }
   ],
   "source": [
    "# The LSTM architecture\n",
    "regressor = Sequential()\n",
    "# First LSTM layer with Dropout regularisation\n",
    "regressor.add(LSTM(units=60, activation = 'tanh' , inner_activation = 'hard_sigmoid',return_sequences=True, input_shape=(XL_train.shape[1],1)))\n",
    "regressor.add(Dropout(0.2))\n",
    "# Second LSTM layer\n",
    "regressor.add(LSTM(units=60, return_sequences=True))\n",
    "regressor.add(Dropout(0.2))\n",
    "# Third LSTM layer\n",
    "regressor.add(LSTM(units=60, return_sequences=True))\n",
    "regressor.add(Dropout(0.2))\n",
    "# Fourth LSTM layer\n",
    "regressor.add(LSTM(units=60))\n",
    "\n",
    "# The output layer\n",
    "regressor.add(Dense(units=1))\n",
    "\n",
    "# Compiling the RNN\n",
    "regressor.compile(optimizer='rmsprop',loss='mean_squared_error')"
   ]
  },
  {
   "cell_type": "code",
   "execution_count": 65,
   "metadata": {},
   "outputs": [
    {
     "name": "stdout",
     "output_type": "stream",
     "text": [
      "Epoch 1/100\n",
      "1427/1427 [==============================] - 15s 11ms/step - loss: 1.1712\n",
      "Epoch 2/100\n",
      "1427/1427 [==============================] - 0s 321us/step - loss: 1.0064\n",
      "Epoch 3/100\n",
      "1427/1427 [==============================] - 1s 367us/step - loss: 0.7336\n",
      "Epoch 4/100\n",
      "1427/1427 [==============================] - 1s 364us/step - loss: 0.3517\n",
      "Epoch 5/100\n",
      "1427/1427 [==============================] - 1s 382us/step - loss: 0.0723\n",
      "Epoch 6/100\n",
      "1427/1427 [==============================] - 1s 376us/step - loss: 0.0271\n",
      "Epoch 7/100\n",
      "1427/1427 [==============================] - 1s 378us/step - loss: 0.0259\n",
      "Epoch 8/100\n",
      "1427/1427 [==============================] - 1s 361us/step - loss: 0.0249\n",
      "Epoch 9/100\n",
      "1427/1427 [==============================] - 0s 335us/step - loss: 0.0247\n",
      "Epoch 10/100\n",
      "1427/1427 [==============================] - 1s 417us/step - loss: 0.0255\n",
      "Epoch 11/100\n",
      "1427/1427 [==============================] - 1s 362us/step - loss: 0.0270\n",
      "Epoch 12/100\n",
      "1427/1427 [==============================] - 1s 364us/step - loss: 0.0225\n",
      "Epoch 13/100\n",
      "1427/1427 [==============================] - 1s 355us/step - loss: 0.0260\n",
      "Epoch 14/100\n",
      "1427/1427 [==============================] - 1s 468us/step - loss: 0.0208\n",
      "Epoch 15/100\n",
      "1427/1427 [==============================] - 1s 446us/step - loss: 0.0214\n",
      "Epoch 16/100\n",
      "1427/1427 [==============================] - 0s 348us/step - loss: 0.0215\n",
      "Epoch 17/100\n",
      "1427/1427 [==============================] - 1s 386us/step - loss: 0.0193\n",
      "Epoch 18/100\n",
      "1427/1427 [==============================] - 1s 611us/step - loss: 0.0241\n",
      "Epoch 19/100\n",
      "1427/1427 [==============================] - 1s 452us/step - loss: 0.0198\n",
      "Epoch 20/100\n",
      "1427/1427 [==============================] - 0s 324us/step - loss: 0.0208\n",
      "Epoch 21/100\n",
      "1427/1427 [==============================] - 1s 412us/step - loss: 0.0177\n",
      "Epoch 22/100\n",
      "1427/1427 [==============================] - 1s 417us/step - loss: 0.0209\n",
      "Epoch 23/100\n",
      "1427/1427 [==============================] - 0s 330us/step - loss: 0.0197\n",
      "Epoch 24/100\n",
      "1427/1427 [==============================] - 1s 447us/step - loss: 0.0194\n",
      "Epoch 25/100\n",
      "1427/1427 [==============================] - 1s 380us/step - loss: 0.0186\n",
      "Epoch 26/100\n",
      "1427/1427 [==============================] - 1s 418us/step - loss: 0.0192\n",
      "Epoch 27/100\n",
      "1427/1427 [==============================] - 1s 455us/step - loss: 0.0197\n",
      "Epoch 28/100\n",
      "1427/1427 [==============================] - 1s 536us/step - loss: 0.0167\n",
      "Epoch 29/100\n",
      "1427/1427 [==============================] - 1s 380us/step - loss: 0.0167\n",
      "Epoch 30/100\n",
      "1427/1427 [==============================] - 1s 373us/step - loss: 0.0207\n",
      "Epoch 31/100\n",
      "1427/1427 [==============================] - 0s 303us/step - loss: 0.0159\n",
      "Epoch 32/100\n",
      "1427/1427 [==============================] - 0s 314us/step - loss: 0.0168\n",
      "Epoch 33/100\n",
      "1427/1427 [==============================] - 0s 331us/step - loss: 0.0177\n",
      "Epoch 34/100\n",
      "1427/1427 [==============================] - 0s 340us/step - loss: 0.0163\n",
      "Epoch 35/100\n",
      "1427/1427 [==============================] - 0s 329us/step - loss: 0.0146\n",
      "Epoch 36/100\n",
      "1427/1427 [==============================] - 1s 396us/step - loss: 0.0187\n",
      "Epoch 37/100\n",
      "1427/1427 [==============================] - 1s 364us/step - loss: 0.0145\n",
      "Epoch 38/100\n",
      "1427/1427 [==============================] - 1s 414us/step - loss: 0.0177\n",
      "Epoch 39/100\n",
      "1427/1427 [==============================] - 1s 494us/step - loss: 0.0148\n",
      "Epoch 40/100\n",
      "1427/1427 [==============================] - 1s 474us/step - loss: 0.0159\n",
      "Epoch 41/100\n",
      "1427/1427 [==============================] - 1s 367us/step - loss: 0.0170\n",
      "Epoch 42/100\n",
      "1427/1427 [==============================] - 1s 356us/step - loss: 0.0144\n",
      "Epoch 43/100\n",
      "1427/1427 [==============================] - 0s 336us/step - loss: 0.0135\n",
      "Epoch 44/100\n",
      "1427/1427 [==============================] - 0s 326us/step - loss: 0.0148\n",
      "Epoch 45/100\n",
      "1427/1427 [==============================] - 0s 327us/step - loss: 0.0174\n",
      "Epoch 46/100\n",
      "1427/1427 [==============================] - 0s 348us/step - loss: 0.0131\n",
      "Epoch 47/100\n",
      "1427/1427 [==============================] - 1s 418us/step - loss: 0.0162\n",
      "Epoch 48/100\n",
      "1427/1427 [==============================] - 1s 457us/step - loss: 0.0143\n",
      "Epoch 49/100\n",
      "1427/1427 [==============================] - 1s 389us/step - loss: 0.0150\n",
      "Epoch 50/100\n",
      "1427/1427 [==============================] - 1s 669us/step - loss: 0.0146\n",
      "Epoch 51/100\n",
      "1427/1427 [==============================] - 1s 511us/step - loss: 0.0147\n",
      "Epoch 52/100\n",
      "1427/1427 [==============================] - 0s 329us/step - loss: 0.0122\n",
      "Epoch 53/100\n",
      "1427/1427 [==============================] - 1s 361us/step - loss: 0.0123\n",
      "Epoch 54/100\n",
      "1427/1427 [==============================] - 0s 337us/step - loss: 0.0166\n",
      "Epoch 55/100\n",
      "1427/1427 [==============================] - 0s 333us/step - loss: 0.0116\n",
      "Epoch 56/100\n",
      "1427/1427 [==============================] - 1s 389us/step - loss: 0.0145\n",
      "Epoch 57/100\n",
      "1427/1427 [==============================] - 1s 372us/step - loss: 0.0111\n",
      "Epoch 58/100\n",
      "1427/1427 [==============================] - 1s 384us/step - loss: 0.0141\n",
      "Epoch 59/100\n",
      "1427/1427 [==============================] - 1s 433us/step - loss: 0.0109\n",
      "Epoch 60/100\n",
      "1427/1427 [==============================] - 1s 407us/step - loss: 0.0129\n",
      "Epoch 61/100\n",
      "1427/1427 [==============================] - 1s 406us/step - loss: 0.0121\n",
      "Epoch 62/100\n",
      "1427/1427 [==============================] - 1s 379us/step - loss: 0.0116\n",
      "Epoch 63/100\n",
      "1427/1427 [==============================] - 1s 406us/step - loss: 0.0132\n",
      "Epoch 64/100\n",
      "1427/1427 [==============================] - 1s 364us/step - loss: 0.0119\n",
      "Epoch 65/100\n",
      "1427/1427 [==============================] - 1s 376us/step - loss: 0.0120\n",
      "Epoch 66/100\n",
      "1427/1427 [==============================] - 1s 371us/step - loss: 0.0129\n",
      "Epoch 67/100\n",
      "1427/1427 [==============================] - 1s 419us/step - loss: 0.0116\n",
      "Epoch 68/100\n",
      "1427/1427 [==============================] - 1s 482us/step - loss: 0.0109\n",
      "Epoch 69/100\n",
      "1427/1427 [==============================] - 1s 456us/step - loss: 0.0112\n",
      "Epoch 70/100\n",
      "1427/1427 [==============================] - 1s 512us/step - loss: 0.0102\n",
      "Epoch 71/100\n",
      "1427/1427 [==============================] - 1s 465us/step - loss: 0.0128\n",
      "Epoch 72/100\n",
      "1427/1427 [==============================] - 1s 356us/step - loss: 0.0111\n",
      "Epoch 73/100\n",
      "1427/1427 [==============================] - 0s 348us/step - loss: 0.0106\n",
      "Epoch 74/100\n",
      "1427/1427 [==============================] - 0s 334us/step - loss: 0.0101\n",
      "Epoch 75/100\n",
      "1427/1427 [==============================] - 1s 373us/step - loss: 0.0116\n",
      "Epoch 76/100\n",
      "1427/1427 [==============================] - 1s 401us/step - loss: 0.0097\n",
      "Epoch 77/100\n",
      "1427/1427 [==============================] - 1s 556us/step - loss: 0.0099\n",
      "Epoch 78/100\n",
      "1427/1427 [==============================] - 1s 495us/step - loss: 0.0096\n",
      "Epoch 79/100\n",
      "1427/1427 [==============================] - 1s 430us/step - loss: 0.0100\n",
      "Epoch 80/100\n",
      "1427/1427 [==============================] - 1s 416us/step - loss: 0.0096\n",
      "Epoch 81/100\n",
      "1427/1427 [==============================] - 1s 451us/step - loss: 0.0091\n",
      "Epoch 82/100\n",
      "1427/1427 [==============================] - 1s 394us/step - loss: 0.0109\n",
      "Epoch 83/100\n",
      "1427/1427 [==============================] - 0s 344us/step - loss: 0.0091\n",
      "Epoch 84/100\n",
      "1427/1427 [==============================] - 1s 356us/step - loss: 0.0085\n",
      "Epoch 85/100\n",
      "1427/1427 [==============================] - 1s 374us/step - loss: 0.0101\n",
      "Epoch 86/100\n",
      "1427/1427 [==============================] - 1s 373us/step - loss: 0.0078\n",
      "Epoch 87/100\n",
      "1427/1427 [==============================] - 1s 429us/step - loss: 0.0095\n",
      "Epoch 88/100\n",
      "1427/1427 [==============================] - 1s 438us/step - loss: 0.0095\n",
      "Epoch 89/100\n",
      "1427/1427 [==============================] - 1s 452us/step - loss: 0.0084\n",
      "Epoch 90/100\n",
      "1427/1427 [==============================] - 1s 468us/step - loss: 0.0095\n",
      "Epoch 91/100\n",
      "1427/1427 [==============================] - 1s 534us/step - loss: 0.0087\n",
      "Epoch 92/100\n",
      "1427/1427 [==============================] - 1s 369us/step - loss: 0.0085\n",
      "Epoch 93/100\n",
      "1427/1427 [==============================] - 1s 357us/step - loss: 0.0094\n",
      "Epoch 94/100\n",
      "1427/1427 [==============================] - 1s 352us/step - loss: 0.0073\n",
      "Epoch 95/100\n"
     ]
    },
    {
     "name": "stdout",
     "output_type": "stream",
     "text": [
      "1427/1427 [==============================] - 1s 393us/step - loss: 0.0078\n",
      "Epoch 96/100\n",
      "1427/1427 [==============================] - 1s 388us/step - loss: 0.0073\n",
      "Epoch 97/100\n",
      "1427/1427 [==============================] - 1s 373us/step - loss: 0.0080\n",
      "Epoch 98/100\n",
      "1427/1427 [==============================] - 1s 384us/step - loss: 0.0081\n",
      "Epoch 99/100\n",
      "1427/1427 [==============================] - 1s 539us/step - loss: 0.0080\n",
      "Epoch 100/100\n",
      "1427/1427 [==============================] - 1s 597us/step - loss: 0.0076\n"
     ]
    }
   ],
   "source": [
    "from keras.callbacks import EarlyStopping\n",
    "\n",
    "early_stop = EarlyStopping(monitor='loss', patience=50, verbose=1)\n",
    "history = regressor.fit(XL_train, yL_train, epochs=100, batch_size=256, verbose=1, callbacks=[early_stop], shuffle=True)\n",
    "\n",
    "\n"
   ]
  },
  {
   "cell_type": "code",
   "execution_count": 74,
   "metadata": {},
   "outputs": [],
   "source": [
    "dataset_total = pd.concat((dataset[\"Close\"][:'2018'],dataset[\"Close\"]['2019':]),axis=0)\n",
    "inputs = dataset_total[len(dataset_total)-len(test_set) - 1:].values\n",
    "inputs = inputs.reshape(-1,1)\n",
    "inputs  = scaler.transform(inputs)"
   ]
  },
  {
   "cell_type": "code",
   "execution_count": 75,
   "metadata": {},
   "outputs": [],
   "source": [
    "XL_test = []\n",
    "yL_test = []\n",
    "for i in range(1,83+1): #lenght of y_test+2\n",
    "    XL_test.append(inputs[i-1:i,0])\n",
    "    yL_test.append(inputs[i,0])\n",
    "XL_test = np.array(XL_test)\n",
    "XL_test = np.reshape(XL_test, (XL_test.shape[0],XL_test.shape[1],1))\n",
    "\n",
    "\n",
    "predicted_stock_price = regressor.predict(XL_test)"
   ]
  },
  {
   "cell_type": "code",
   "execution_count": 76,
   "metadata": {},
   "outputs": [
    {
     "name": "stdout",
     "output_type": "stream",
     "text": [
      "The root mean squared error is 0.7237858409664341.\n"
     ]
    }
   ],
   "source": [
    "return_rmse(y_test,predicted_stock_price)"
   ]
  },
  {
   "cell_type": "code",
   "execution_count": 77,
   "metadata": {},
   "outputs": [
    {
     "data": {
      "image/png": "[encoded data removed]",
      "text/plain": [
       "<Figure size 1440x720 with 1 Axes>"
      ]
     },
     "metadata": {
      "needs_background": "light"
     },
     "output_type": "display_data"
    }
   ],
   "source": [
    "plot_predictions(y_test,predicted_stock_price)"
   ]
  },
  {
   "cell_type": "markdown",
   "metadata": {},
   "source": [
    "# GRU"
   ]
  },
  {
   "cell_type": "code",
   "execution_count": 44,
   "metadata": {},
   "outputs": [
    {
     "name": "stderr",
     "output_type": "stream",
     "text": [
      "/Users/san/anaconda3/lib/python3.7/site-packages/ipykernel_launcher.py:4: UserWarning: Update your `GRU` call to the Keras 2 API: `GRU(units=60, activation=\"tanh\", return_sequences=True, input_shape=(1, 1), recurrent_activation=\"hard_sigmoid\")`\n",
      "  after removing the cwd from sys.path.\n"
     ]
    }
   ],
   "source": [
    "# The LSTM architecture\n",
    "regressor = Sequential()\n",
    "# First LSTM layer with Dropout regularisation\n",
    "regressor.add(GRU(units=60, activation = 'tanh' , inner_activation = 'hard_sigmoid',return_sequences=True, input_shape=(XL_train.shape[1],1)))\n",
    "# Second LSTM layer\n",
    "regressor.add(GRU(units=60, return_sequences=True))\n",
    "# Third LSTM layer\n",
    "regressor.add(GRU(units=60, return_sequences=True))\n",
    "# Fourth LSTM layer\n",
    "regressor.add(GRU(units=60))\n",
    "\n",
    "# The output layer\n",
    "regressor.add(Dense(units=1))\n",
    "\n",
    "# Compiling the RNN\n",
    "regressor.compile(optimizer='rmsprop',loss='mean_squared_error')"
   ]
  },
  {
   "cell_type": "code",
   "execution_count": 132,
   "metadata": {},
   "outputs": [
    {
     "name": "stdout",
     "output_type": "stream",
     "text": [
      "Epoch 1/500\n",
      "1427/1427 [==============================] - 1s 994us/step - loss: 0.0072\n",
      "Epoch 2/500\n",
      "1427/1427 [==============================] - 1s 659us/step - loss: 0.0079\n",
      "Epoch 3/500\n",
      "1427/1427 [==============================] - 1s 666us/step - loss: 0.0072\n",
      "Epoch 4/500\n",
      "1427/1427 [==============================] - 1s 711us/step - loss: 0.0075\n",
      "Epoch 5/500\n",
      "1427/1427 [==============================] - 1s 618us/step - loss: 0.0066\n",
      "Epoch 6/500\n",
      "1427/1427 [==============================] - 1s 732us/step - loss: 0.0068\n",
      "Epoch 7/500\n",
      "1427/1427 [==============================] - 1s 599us/step - loss: 0.0069\n",
      "Epoch 8/500\n",
      "1427/1427 [==============================] - 1s 657us/step - loss: 0.0068\n",
      "Epoch 9/500\n",
      "1427/1427 [==============================] - 1s 554us/step - loss: 0.0068\n",
      "Epoch 10/500\n",
      "1427/1427 [==============================] - 1s 703us/step - loss: 0.0072\n",
      "Epoch 11/500\n",
      "1427/1427 [==============================] - 1s 573us/step - loss: 0.0058\n",
      "Epoch 12/500\n",
      "1427/1427 [==============================] - 1s 912us/step - loss: 0.0072\n",
      "Epoch 13/500\n",
      "1427/1427 [==============================] - 1s 685us/step - loss: 0.0061\n",
      "Epoch 14/500\n",
      "1427/1427 [==============================] - 1s 538us/step - loss: 0.0061\n",
      "Epoch 15/500\n",
      "1427/1427 [==============================] - 1s 636us/step - loss: 0.0070\n",
      "Epoch 16/500\n",
      "1427/1427 [==============================] - 1s 609us/step - loss: 0.0055\n",
      "Epoch 17/500\n",
      "1427/1427 [==============================] - 1s 706us/step - loss: 0.0059\n",
      "Epoch 18/500\n",
      "1427/1427 [==============================] - 1s 635us/step - loss: 0.0068\n",
      "Epoch 19/500\n",
      "1427/1427 [==============================] - 1s 753us/step - loss: 0.0061\n",
      "Epoch 20/500\n",
      "1427/1427 [==============================] - 1s 616us/step - loss: 0.0061\n",
      "Epoch 21/500\n",
      "1427/1427 [==============================] - 1s 650us/step - loss: 0.0050\n",
      "Epoch 22/500\n",
      "1427/1427 [==============================] - 1s 611us/step - loss: 0.0061\n",
      "Epoch 23/500\n",
      "1427/1427 [==============================] - 1s 715us/step - loss: 0.0052\n",
      "Epoch 24/500\n",
      "1427/1427 [==============================] - 1s 638us/step - loss: 0.0063\n",
      "Epoch 25/500\n",
      "1427/1427 [==============================] - 1s 787us/step - loss: 0.0049\n",
      "Epoch 26/500\n",
      "1427/1427 [==============================] - 1s 593us/step - loss: 0.0054\n",
      "Epoch 27/500\n",
      "1427/1427 [==============================] - 1s 556us/step - loss: 0.0059\n",
      "Epoch 28/500\n",
      "1427/1427 [==============================] - 1s 684us/step - loss: 0.0050\n",
      "Epoch 29/500\n",
      "1427/1427 [==============================] - 1s 638us/step - loss: 0.0051\n",
      "Epoch 30/500\n",
      "1427/1427 [==============================] - 1s 729us/step - loss: 0.0049\n",
      "Epoch 31/500\n",
      "1427/1427 [==============================] - 1s 660us/step - loss: 0.0048\n",
      "Epoch 32/500\n",
      "1427/1427 [==============================] - 1s 853us/step - loss: 0.0043\n",
      "Epoch 33/500\n",
      "1427/1427 [==============================] - 1s 526us/step - loss: 0.0057\n",
      "Epoch 34/500\n",
      "1427/1427 [==============================] - 1s 837us/step - loss: 0.0046\n",
      "Epoch 35/500\n",
      "1427/1427 [==============================] - 1s 752us/step - loss: 0.0048\n",
      "Epoch 36/500\n",
      "1427/1427 [==============================] - 1s 785us/step - loss: 0.0051\n",
      "Epoch 37/500\n",
      "1427/1427 [==============================] - 1s 719us/step - loss: 0.0049\n",
      "Epoch 38/500\n",
      "1427/1427 [==============================] - 1s 753us/step - loss: 0.0045\n",
      "Epoch 39/500\n",
      "1427/1427 [==============================] - 1s 636us/step - loss: 0.0041\n",
      "Epoch 40/500\n",
      "1427/1427 [==============================] - 1s 751us/step - loss: 0.0045\n",
      "Epoch 41/500\n",
      "1427/1427 [==============================] - 1s 856us/step - loss: 0.0047\n",
      "Epoch 42/500\n",
      "1427/1427 [==============================] - 1s 742us/step - loss: 0.0039\n",
      "Epoch 43/500\n",
      "1427/1427 [==============================] - 1s 940us/step - loss: 0.0052\n",
      "Epoch 44/500\n",
      "1427/1427 [==============================] - 1s 672us/step - loss: 0.0040\n",
      "Epoch 45/500\n",
      "1427/1427 [==============================] - 1s 754us/step - loss: 0.0043\n",
      "Epoch 46/500\n",
      "1427/1427 [==============================] - 1s 686us/step - loss: 0.0048\n",
      "Epoch 47/500\n",
      "1427/1427 [==============================] - 1s 788us/step - loss: 0.0039\n",
      "Epoch 48/500\n",
      "1427/1427 [==============================] - 1s 744us/step - loss: 0.0038\n",
      "Epoch 49/500\n",
      "1427/1427 [==============================] - 1s 822us/step - loss: 0.0040\n",
      "Epoch 50/500\n",
      "1427/1427 [==============================] - 1s 566us/step - loss: 0.0035\n",
      "Epoch 51/500\n",
      "1427/1427 [==============================] - 1s 825us/step - loss: 0.0036\n",
      "Epoch 52/500\n",
      "1427/1427 [==============================] - 1s 755us/step - loss: 0.0045\n",
      "Epoch 53/500\n",
      "1427/1427 [==============================] - 1s 935us/step - loss: 0.0034\n",
      "Epoch 54/500\n",
      "1427/1427 [==============================] - 2s 1ms/step - loss: 0.0037\n",
      "Epoch 55/500\n",
      "1427/1427 [==============================] - 1s 711us/step - loss: 0.0040\n",
      "Epoch 56/500\n",
      "1427/1427 [==============================] - 2s 1ms/step - loss: 0.0034\n",
      "Epoch 57/500\n",
      "1427/1427 [==============================] - 1s 827us/step - loss: 0.0037\n",
      "Epoch 58/500\n",
      "1427/1427 [==============================] - 1s 676us/step - loss: 0.0032\n",
      "Epoch 59/500\n",
      "1427/1427 [==============================] - 1s 760us/step - loss: 0.0040\n",
      "Epoch 60/500\n",
      "1427/1427 [==============================] - 1s 556us/step - loss: 0.0031\n",
      "Epoch 61/500\n",
      "1427/1427 [==============================] - 1s 750us/step - loss: 0.0033\n",
      "Epoch 62/500\n",
      "1427/1427 [==============================] - 1s 709us/step - loss: 0.0040\n",
      "Epoch 63/500\n",
      "1427/1427 [==============================] - 1s 816us/step - loss: 0.0035\n",
      "Epoch 64/500\n",
      "1427/1427 [==============================] - 1s 706us/step - loss: 0.0032\n",
      "Epoch 65/500\n",
      "1427/1427 [==============================] - 1s 806us/step - loss: 0.0029\n",
      "Epoch 66/500\n",
      "1427/1427 [==============================] - 1s 533us/step - loss: 0.0038\n",
      "Epoch 67/500\n",
      "1427/1427 [==============================] - 1s 742us/step - loss: 0.0036\n",
      "Epoch 68/500\n",
      "1427/1427 [==============================] - 1s 746us/step - loss: 0.0031\n",
      "Epoch 69/500\n",
      "1427/1427 [==============================] - 1s 904us/step - loss: 0.0034\n",
      "Epoch 70/500\n",
      "1427/1427 [==============================] - 1s 725us/step - loss: 0.0032\n",
      "Epoch 71/500\n",
      "1427/1427 [==============================] - 1s 738us/step - loss: 0.0035\n",
      "Epoch 72/500\n",
      "1427/1427 [==============================] - 1s 658us/step - loss: 0.0031\n",
      "Epoch 73/500\n",
      "1427/1427 [==============================] - 1s 824us/step - loss: 0.0032\n",
      "Epoch 74/500\n",
      "1427/1427 [==============================] - 1s 926us/step - loss: 0.0028\n",
      "Epoch 75/500\n",
      "1427/1427 [==============================] - 1s 722us/step - loss: 0.0031\n",
      "Epoch 76/500\n",
      "1427/1427 [==============================] - 1s 783us/step - loss: 0.0030\n",
      "Epoch 77/500\n",
      "1427/1427 [==============================] - 1s 548us/step - loss: 0.0027\n",
      "Epoch 78/500\n",
      "1427/1427 [==============================] - 1s 612us/step - loss: 0.0029\n",
      "Epoch 79/500\n",
      "1427/1427 [==============================] - 1s 803us/step - loss: 0.0035\n",
      "Epoch 80/500\n",
      "1427/1427 [==============================] - 1s 672us/step - loss: 0.0025\n",
      "Epoch 81/500\n",
      "1427/1427 [==============================] - 1s 738us/step - loss: 0.0028\n",
      "Epoch 82/500\n",
      "1427/1427 [==============================] - 1s 730us/step - loss: 0.0033\n",
      "Epoch 83/500\n",
      "1427/1427 [==============================] - 1s 629us/step - loss: 0.0029\n",
      "Epoch 84/500\n",
      "1427/1427 [==============================] - 1s 626us/step - loss: 0.0033\n",
      "Epoch 85/500\n",
      "1427/1427 [==============================] - 1s 901us/step - loss: 0.0031\n",
      "Epoch 86/500\n",
      "1427/1427 [==============================] - 1s 719us/step - loss: 0.0024\n",
      "Epoch 87/500\n",
      "1427/1427 [==============================] - 1s 875us/step - loss: 0.0031\n",
      "Epoch 88/500\n",
      "1427/1427 [==============================] - 1s 907us/step - loss: 0.0026\n",
      "Epoch 89/500\n",
      "1427/1427 [==============================] - 1s 758us/step - loss: 0.0025\n",
      "Epoch 90/500\n",
      "1427/1427 [==============================] - 1s 816us/step - loss: 0.0035\n",
      "Epoch 91/500\n",
      "1427/1427 [==============================] - 1s 820us/step - loss: 0.0025\n",
      "Epoch 92/500\n",
      "1427/1427 [==============================] - 1s 803us/step - loss: 0.0028\n",
      "Epoch 93/500\n",
      "1427/1427 [==============================] - 1s 685us/step - loss: 0.0026\n",
      "Epoch 94/500\n",
      "1427/1427 [==============================] - 1s 898us/step - loss: 0.0025\n",
      "Epoch 95/500\n"
     ]
    },
    {
     "name": "stdout",
     "output_type": "stream",
     "text": [
      "1427/1427 [==============================] - 1s 971us/step - loss: 0.0032\n",
      "Epoch 96/500\n",
      "1427/1427 [==============================] - 1s 819us/step - loss: 0.0023\n",
      "Epoch 97/500\n",
      "1427/1427 [==============================] - 1s 944us/step - loss: 0.0031\n",
      "Epoch 98/500\n",
      "1427/1427 [==============================] - 1s 752us/step - loss: 0.0028\n",
      "Epoch 99/500\n",
      "1427/1427 [==============================] - 1s 580us/step - loss: 0.0023\n",
      "Epoch 100/500\n",
      "1427/1427 [==============================] - 2s 1ms/step - loss: 0.0030\n",
      "Epoch 101/500\n",
      "1427/1427 [==============================] - 1s 744us/step - loss: 0.0024\n",
      "Epoch 102/500\n",
      "1427/1427 [==============================] - 1s 920us/step - loss: 0.0021\n",
      "Epoch 103/500\n",
      "1427/1427 [==============================] - 1s 769us/step - loss: 0.0029\n",
      "Epoch 104/500\n",
      "1427/1427 [==============================] - 1s 687us/step - loss: 0.0024\n",
      "Epoch 105/500\n",
      "1427/1427 [==============================] - 1s 611us/step - loss: 0.0024\n",
      "Epoch 106/500\n",
      "1427/1427 [==============================] - 1s 683us/step - loss: 0.0027\n",
      "Epoch 107/500\n",
      "1427/1427 [==============================] - 1s 575us/step - loss: 0.0023\n",
      "Epoch 108/500\n",
      "1427/1427 [==============================] - 1s 780us/step - loss: 0.0025\n",
      "Epoch 109/500\n",
      "1427/1427 [==============================] - 1s 646us/step - loss: 0.0025\n",
      "Epoch 110/500\n",
      "1427/1427 [==============================] - 1s 631us/step - loss: 0.0022\n",
      "Epoch 111/500\n",
      "1427/1427 [==============================] - 1s 575us/step - loss: 0.0022\n",
      "Epoch 112/500\n",
      "1427/1427 [==============================] - 1s 641us/step - loss: 0.0027\n",
      "Epoch 00112: early stopping\n"
     ]
    }
   ],
   "source": [
    "from keras.callbacks import EarlyStopping\n",
    "\n",
    "early_stop = EarlyStopping(monitor='loss', patience=10, verbose=1)\n",
    "history = regressor.fit(XL_train, yL_train, epochs=500, batch_size=256, verbose=1, callbacks=[early_stop], shuffle=True)\n",
    "\n",
    "\n"
   ]
  },
  {
   "cell_type": "code",
   "execution_count": 133,
   "metadata": {},
   "outputs": [],
   "source": [
    "dataset_total = pd.concat((dataset[\"Close\"][:'2018'],dataset[\"Close\"]['2019':]),axis=0)\n",
    "inputs = dataset_total[len(dataset_total)-len(test_set) - 1:].values\n",
    "inputs = inputs.reshape(-1,1)\n",
    "inputs  = scaler.transform(inputs)"
   ]
  },
  {
   "cell_type": "code",
   "execution_count": 134,
   "metadata": {},
   "outputs": [],
   "source": [
    "XL_test = []\n",
    "yL_test = []\n",
    "for i in range(1,83+1): #lenght of y_test+2\n",
    "    XL_test.append(inputs[i-1:i,0])\n",
    "    yL_test.append(inputs[i,0])\n",
    "XL_test = np.array(XL_test)\n",
    "XL_test = np.reshape(XL_test, (XL_test.shape[0],XL_test.shape[1],1))\n",
    "\n",
    "\n",
    "predicted_stock_price = regressor.predict(XL_test)"
   ]
  },
  {
   "cell_type": "code",
   "execution_count": 135,
   "metadata": {},
   "outputs": [
    {
     "name": "stdout",
     "output_type": "stream",
     "text": [
      "The root mean squared error is 0.7808787514464715.\n"
     ]
    }
   ],
   "source": [
    "return_rmse(y_test,predicted_stock_price)"
   ]
  },
  {
   "cell_type": "code",
   "execution_count": 136,
   "metadata": {},
   "outputs": [
    {
     "data": {
      "image/png": "[encoded data removed]",
      "text/plain": [
       "<Figure size 1440x720 with 1 Axes>"
      ]
     },
     "metadata": {
      "needs_background": "light"
     },
     "output_type": "display_data"
    }
   ],
   "source": [
    "plot_predictions(y_test,predicted_stock_price)"
   ]
  },
  {
   "cell_type": "markdown",
   "metadata": {},
   "source": [
    "# PCA"
   ]
  },
  {
   "cell_type": "code",
   "execution_count": 125,
   "metadata": {},
   "outputs": [],
   "source": [
    "\n",
    "\n",
    "train = dataset1[:'2018'].iloc[:,1:5]\n",
    "test = dataset1[:'2018'].iloc[:,0:1]\n"
   ]
  },
  {
   "cell_type": "code",
   "execution_count": null,
   "metadata": {},
   "outputs": [],
   "source": []
  },
  {
   "cell_type": "code",
   "execution_count": 126,
   "metadata": {},
   "outputs": [],
   "source": [
    "from sklearn.preprocessing import StandardScaler\n",
    "scaler = StandardScaler()\n",
    "x = scaler.fit_transform(train)\n",
    "y = scaler.fit_transform(test)"
   ]
  },
  {
   "cell_type": "code",
   "execution_count": 127,
   "metadata": {},
   "outputs": [],
   "source": [
    "from sklearn.decomposition import PCA\n",
    "pca = PCA(n_components=3)\n",
    "principalComponents = pca.fit_transform(x)\n",
    "principalDf = pd.DataFrame(data = principalComponents\n",
    "             , columns = ['pca1', 'pca2','pca3'])"
   ]
  },
  {
   "cell_type": "code",
   "execution_count": 128,
   "metadata": {},
   "outputs": [
    {
     "data": {
      "text/plain": [
       "1427"
      ]
     },
     "execution_count": 128,
     "metadata": {},
     "output_type": "execute_result"
    }
   ],
   "source": [
    "len(train)"
   ]
  },
  {
   "cell_type": "code",
   "execution_count": 129,
   "metadata": {},
   "outputs": [],
   "source": [
    "training_set  = scaler.inverse_transform(principalDf)\n",
    "test_set = test"
   ]
  },
  {
   "cell_type": "code",
   "execution_count": 130,
   "metadata": {},
   "outputs": [
    {
     "data": {
      "text/plain": [
       "array([[  71.48047458,  746.27463244,  751.64269508],\n",
       "       [  86.93782314,  745.83531943,  749.93998536],\n",
       "       [ 100.45498952,  744.73254968,  751.38356219],\n",
       "       ...,\n",
       "       [1301.97898499,  739.97893947,  775.06548548],\n",
       "       [1338.83879664,  758.03002847,  747.57232517],\n",
       "       [1332.55268445,  761.9360091 ,  751.26058082]])"
      ]
     },
     "execution_count": 130,
     "metadata": {},
     "output_type": "execute_result"
    }
   ],
   "source": [
    "training_set"
   ]
  },
  {
   "cell_type": "code",
   "execution_count": 131,
   "metadata": {},
   "outputs": [
    {
     "data": {
      "text/plain": [
       "(1427, 1)"
      ]
     },
     "execution_count": 131,
     "metadata": {},
     "output_type": "execute_result"
    }
   ],
   "source": [
    "test_set.shape"
   ]
  },
  {
   "cell_type": "code",
   "execution_count": 132,
   "metadata": {},
   "outputs": [],
   "source": [
    "train= principalDf.values.reshape(-1,1)\n",
    "test = test_set.values.reshape(-1,1)"
   ]
  },
  {
   "cell_type": "code",
   "execution_count": 133,
   "metadata": {},
   "outputs": [
    {
     "data": {
      "text/plain": [
       "(1427, 3)"
      ]
     },
     "execution_count": 133,
     "metadata": {},
     "output_type": "execute_result"
    }
   ],
   "source": [
    "training_set.shape"
   ]
  },
  {
   "cell_type": "code",
   "execution_count": 134,
   "metadata": {},
   "outputs": [
    {
     "data": {
      "text/plain": [
       "(4281, 1)"
      ]
     },
     "execution_count": 134,
     "metadata": {},
     "output_type": "execute_result"
    }
   ],
   "source": [
    "train.shape"
   ]
  },
  {
   "cell_type": "code",
   "execution_count": 135,
   "metadata": {},
   "outputs": [],
   "source": [
    "scaler = MinMaxScaler(feature_range=(-1, 1))\n",
    "train_sc = train\n",
    "test_sc = scaler.fit_transform(test)"
   ]
  },
  {
   "cell_type": "code",
   "execution_count": null,
   "metadata": {},
   "outputs": [],
   "source": []
  },
  {
   "cell_type": "code",
   "execution_count": 136,
   "metadata": {},
   "outputs": [],
   "source": [
    "X_train = train_sc[:-1]\n",
    "y_train = train_sc[1:]\n",
    "X_test = test_sc[:-1]\n",
    "y_test = test_sc[1:]"
   ]
  },
  {
   "cell_type": "code",
   "execution_count": 137,
   "metadata": {},
   "outputs": [
    {
     "data": {
      "text/plain": [
       "(4280, 1)"
      ]
     },
     "execution_count": 137,
     "metadata": {},
     "output_type": "execute_result"
    }
   ],
   "source": [
    "X_train.shape"
   ]
  },
  {
   "cell_type": "code",
   "execution_count": 138,
   "metadata": {},
   "outputs": [
    {
     "data": {
      "text/plain": [
       "(4280, 1)"
      ]
     },
     "execution_count": 138,
     "metadata": {},
     "output_type": "execute_result"
    }
   ],
   "source": [
    "y_train.shape"
   ]
  },
  {
   "cell_type": "code",
   "execution_count": 139,
   "metadata": {},
   "outputs": [
    {
     "data": {
      "text/plain": [
       "array([[-0.98130605],\n",
       "       [-0.96293695],\n",
       "       [-0.9679499 ],\n",
       "       ...,\n",
       "       [ 0.47571004],\n",
       "       [ 0.45982589],\n",
       "       [ 0.4563922 ]])"
      ]
     },
     "execution_count": 139,
     "metadata": {},
     "output_type": "execute_result"
    }
   ],
   "source": [
    "y_test"
   ]
  },
  {
   "cell_type": "code",
   "execution_count": 146,
   "metadata": {},
   "outputs": [
    {
     "name": "stdout",
     "output_type": "stream",
     "text": [
      "Epoch 1/100\n",
      "4280/4280 [==============================] - 17s 4ms/step - loss: 0.7288\n",
      "Epoch 2/100\n",
      "4280/4280 [==============================] - 14s 3ms/step - loss: 0.7394\n",
      "Epoch 3/100\n",
      "4280/4280 [==============================] - 14s 3ms/step - loss: 0.7222\n",
      "Epoch 4/100\n",
      "4280/4280 [==============================] - 14s 3ms/step - loss: 0.7156\n",
      "Epoch 5/100\n",
      "4280/4280 [==============================] - 14s 3ms/step - loss: 0.7157\n",
      "Epoch 6/100\n",
      "4280/4280 [==============================] - 14s 3ms/step - loss: 0.7106\n",
      "Epoch 7/100\n",
      "4280/4280 [==============================] - 14s 3ms/step - loss: 0.7083\n",
      "Epoch 8/100\n",
      "4280/4280 [==============================] - 14s 3ms/step - loss: 0.7092\n",
      "Epoch 9/100\n",
      "4280/4280 [==============================] - 14s 3ms/step - loss: 0.7073\n",
      "Epoch 10/100\n",
      "4280/4280 [==============================] - 15s 3ms/step - loss: 0.7054\n",
      "Epoch 11/100\n",
      "4280/4280 [==============================] - 17s 4ms/step - loss: 0.7034: 0s \n",
      "Epoch 12/100\n",
      "4280/4280 [==============================] - 17s 4ms/step - loss: 0.7038\n",
      "Epoch 13/100\n",
      "4280/4280 [==============================] - 14s 3ms/step - loss: 0.7016\n",
      "Epoch 14/100\n",
      "4280/4280 [==============================] - 15s 3ms/step - loss: 0.7017\n",
      "Epoch 15/100\n",
      "4280/4280 [==============================] - 15s 4ms/step - loss: 0.7013\n",
      "Epoch 16/100\n",
      "4280/4280 [==============================] - 17s 4ms/step - loss: 0.7005\n",
      "Epoch 17/100\n",
      "4280/4280 [==============================] - 19s 4ms/step - loss: 0.7003: 0s - los\n",
      "Epoch 18/100\n",
      "4280/4280 [==============================] - 16s 4ms/step - loss: 0.6999\n",
      "Epoch 19/100\n",
      "4280/4280 [==============================] - 19s 4ms/step - loss: 0.6995\n",
      "Epoch 20/100\n",
      "4280/4280 [==============================] - 14s 3ms/step - loss: 0.6999\n",
      "Epoch 21/100\n",
      "4280/4280 [==============================] - 13s 3ms/step - loss: 0.6982\n",
      "Epoch 22/100\n",
      "4280/4280 [==============================] - 14s 3ms/step - loss: 0.6983\n",
      "Epoch 23/100\n",
      "4280/4280 [==============================] - 12s 3ms/step - loss: 0.6976\n",
      "Epoch 24/100\n",
      "4280/4280 [==============================] - 13s 3ms/step - loss: 0.6975\n",
      "Epoch 25/100\n",
      "4280/4280 [==============================] - 13s 3ms/step - loss: 0.6972\n",
      "Epoch 26/100\n",
      "4280/4280 [==============================] - 13s 3ms/step - loss: 0.6968\n",
      "Epoch 27/100\n",
      "4280/4280 [==============================] - 14s 3ms/step - loss: 0.6965\n",
      "Epoch 28/100\n",
      "4280/4280 [==============================] - 14s 3ms/step - loss: 0.6964\n",
      "Epoch 29/100\n",
      "4280/4280 [==============================] - 14s 3ms/step - loss: 0.6961\n",
      "Epoch 30/100\n",
      "4280/4280 [==============================] - 13s 3ms/step - loss: 0.6959\n",
      "Epoch 31/100\n",
      "4280/4280 [==============================] - 15s 4ms/step - loss: 0.6956\n",
      "Epoch 32/100\n",
      "4280/4280 [==============================] - 13s 3ms/step - loss: 0.6954\n",
      "Epoch 33/100\n",
      "4280/4280 [==============================] - 13s 3ms/step - loss: 0.6953\n",
      "Epoch 34/100\n",
      "4280/4280 [==============================] - 14s 3ms/step - loss: 0.6950\n",
      "Epoch 35/100\n",
      "4280/4280 [==============================] - 14s 3ms/step - loss: 0.6951\n",
      "Epoch 36/100\n",
      "4280/4280 [==============================] - 15s 4ms/step - loss: 0.6944\n",
      "Epoch 37/100\n",
      "4280/4280 [==============================] - 17s 4ms/step - loss: 0.6944\n",
      "Epoch 38/100\n",
      "4280/4280 [==============================] - 17s 4ms/step - loss: 0.6945\n",
      "Epoch 39/100\n",
      "4280/4280 [==============================] - 14s 3ms/step - loss: 0.6944\n",
      "Epoch 00039: early stopping\n"
     ]
    }
   ],
   "source": [
    "nn_model = Sequential()\n",
    "nn_model.add(Dense(10, input_dim=1, activation='relu'))\n",
    "nn_model.add(Dense(12, input_dim=1, activation='relu'))\n",
    "nn_model.add(Dense(1))\n",
    "nn_model.compile(loss='mean_squared_error', optimizer='adam')\n",
    "early_stop = EarlyStopping(monitor='loss', patience=2, verbose=1)\n",
    "history = nn_model.fit(X_train, y_train, epochs=100, batch_size=1, verbose=1, callbacks=[early_stop], shuffle=False)"
   ]
  },
  {
   "cell_type": "code",
   "execution_count": 144,
   "metadata": {},
   "outputs": [],
   "source": [
    "nn_y_pred_test = nn_model.predict(X_test)"
   ]
  },
  {
   "cell_type": "code",
   "execution_count": 145,
   "metadata": {},
   "outputs": [
    {
     "data": {
      "image/png": "[encoded data removed]",
      "text/plain": [
       "<Figure size 1440x720 with 1 Axes>"
      ]
     },
     "metadata": {
      "needs_background": "light"
     },
     "output_type": "display_data"
    }
   ],
   "source": [
    "plot_predictions(y_test,nn_y_pred_test)"
   ]
  },
  {
   "cell_type": "markdown",
   "metadata": {},
   "source": [
    "# Lasso"
   ]
  },
  {
   "cell_type": "code",
   "execution_count": 78,
   "metadata": {},
   "outputs": [],
   "source": [
    "import pandas as pd\n",
    "import numpy as np\n",
    "\n",
    "from sklearn.linear_model import Ridge, Lasso\n",
    "\n",
    "import matplotlib.pyplot as plt\n",
    "\n",
    "from mpl_toolkits.mplot3d import Axes3D\n",
    "import matplotlib.pyplot as plt\n",
    "from matplotlib import cm"
   ]
  },
  {
   "cell_type": "code",
   "execution_count": null,
   "metadata": {},
   "outputs": [],
   "source": []
  },
  {
   "cell_type": "code",
   "execution_count": null,
   "metadata": {},
   "outputs": [],
   "source": []
  }
 ],
 "metadata": {
  "kernelspec": {
   "display_name": "Python 3",
   "language": "python",
   "name": "python3"
  },
  "language_info": {
   "codemirror_mode": {
    "name": "ipython",
    "version": 3
   },
   "file_extension": ".py",
   "mimetype": "text/x-python",
   "name": "python",
   "nbconvert_exporter": "python",
   "pygments_lexer": "ipython3",
   "version": "3.7.1"
  }
 },
 "nbformat": 4,
 "nbformat_minor": 2
}
